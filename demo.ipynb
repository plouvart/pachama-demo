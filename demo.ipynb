{
  "cells": [
    {
      "cell_type": "raw",
      "metadata": {},
      "source": [
        "---\n",
        "title: pachama demo\n",
        "author: plouvart\n",
        "---"
      ],
      "id": "b6d4e313"
    },
    {
      "cell_type": "code",
      "metadata": {
        "vscode": {
          "languageId": "python"
        }
      },
      "source": [
        "import stackstac\n",
        "import pystac_client\n",
        "import numpy as np\n",
        "import xarray as xr\n",
        "import rioxarray\n",
        "import rasterio\n",
        "from affine import Affine\n",
        "import geopandas as gpd\n",
        "import requests\n",
        "from IPython.display import display\n",
        "from PIL import Image\n",
        "from ipywidgets import widgets\n",
        "from sklearn.ensemble import RandomForestClassifier\n",
        "from ipyleaflet import Map,GeoJSON, ImageOverlay\n",
        "import matplotlib\n",
        "from base64 import b64encode\n",
        "from io import BytesIO\n",
        "from skimage.morphology import binary_erosion, binary_dilation"
      ],
      "id": "c02d6154",
      "execution_count": null,
      "outputs": []
    },
    {
      "cell_type": "code",
      "metadata": {
        "vscode": {
          "languageId": "python"
        }
      },
      "source": [
        "roi_gdf = gpd.read_file(\"../res/roi.geojson\")\n",
        "\n",
        "map = Map(center=tuple(roi_gdf.geometry[0].centroid.coords)[0][::-1], zoom=9)\n",
        "map.add(\n",
        "    GeoJSON(data=roi_gdf.geometry[0].__geo_interface__, style={\"color\": \"red\"})\n",
        ")"
      ],
      "id": "e3ea52c4",
      "execution_count": null,
      "outputs": []
    },
    {
      "cell_type": "code",
      "metadata": {
        "vscode": {
          "languageId": "python"
        }
      },
      "source": [
        "URL = \"https://earth-search.aws.element84.com/v1\"\n",
        "catalog = pystac_client.Client.open(URL)\n",
        "\n",
        "items = catalog.search(\n",
        "    intersects=roi_gdf.geometry[0],\n",
        "    collections=[\"sentinel-2-l2a\"],\n",
        "    datetime=\"2015-03-01/2023-06-01\"\n",
        ").item_collection()\n",
        "\n",
        "len(items)"
      ],
      "id": "063e0806",
      "execution_count": null,
      "outputs": []
    },
    {
      "cell_type": "code",
      "metadata": {
        "vscode": {
          "languageId": "python"
        }
      },
      "source": [
        "nocloud_items = [\n",
        "    item for item in items\n",
        "    if (\n",
        "        item.properties[\"eo:cloud_cover\"] < 5\n",
        "    )\n",
        "]\n",
        "len(nocloud_items)"
      ],
      "id": "53e5b9cd",
      "execution_count": null,
      "outputs": []
    },
    {
      "cell_type": "markdown",
      "metadata": {},
      "source": [
        "Let's visualize the queried products using the preview pictures that come with them\n"
      ],
      "id": "ab49de5b"
    },
    {
      "cell_type": "code",
      "metadata": {
        "vscode": {
          "languageId": "python"
        }
      },
      "source": [
        "widgets.GridBox(\n",
        "    children = [\n",
        "        widgets.VBox(\n",
        "            children = [\n",
        "                widgets.Label(item.id),\n",
        "                widgets.Image(value=requests.get(item.assets[\"thumbnail\"].href, stream=True).content)\n",
        "            ],\n",
        "            layout=widgets.Layout(border='solid',)\n",
        "        )\n",
        "        for item in nocloud_items[::5]\n",
        "    ],\n",
        "    layout=widgets.Layout(\n",
        "        grid_template_columns='256px ' * 4,\n",
        "    )\n",
        ")"
      ],
      "id": "89ff71c5",
      "execution_count": null,
      "outputs": []
    },
    {
      "cell_type": "code",
      "metadata": {
        "vscode": {
          "languageId": "python"
        }
      },
      "source": [
        "items[0].properties['s2:water_percentage'] / (\n",
        "    items[0].properties['s2:vegetation_percentage'] +\n",
        "    items[0].properties['s2:not_vegetated_percentage'] +\n",
        "    items[0].properties['s2:water_percentage']\n",
        ")\n",
        "items[0].properties"
      ],
      "id": "48d73387",
      "execution_count": null,
      "outputs": []
    },
    {
      "cell_type": "code",
      "metadata": {
        "vscode": {
          "languageId": "python"
        }
      },
      "source": [
        "def preview_miniature_on_map(item):\n",
        "    t = item.assets[\"blue\"].extra_fields[\"proj:transform\"]\n",
        "    da = xr.DataArray(\n",
        "        data=np.array(Image.open(requests.get(item.assets[\"thumbnail\"].href, stream=True).raw)),\n",
        "        dims = [\"y\", \"x\", \"band\"],\n",
        "    ).transpose('band', 'y', 'x').rio.write_crs(item.properties[\"proj:epsg\"]).rio.write_transform(\n",
        "        Affine(10 * 10980 / 343, *t[1:4], -10 * 10980 / 343, t[5])\n",
        "    ).rio.reproject(\"epsg:4326\")\n",
        "    im = Image.fromarray(da.transpose('y', 'x', 'band').values)\n",
        "\n",
        "    map = Map(center=tuple(roi_gdf.geometry[0].centroid.coords)[0][::-1], zoom=9)\n",
        "    f = BytesIO()\n",
        "    im.save(f, \"png\")\n",
        "    data = b64encode(f.getvalue()).decode(\"ascii\")\n",
        "    imgurl = \"data:image/png;base64,\" + data\n",
        "    a,b,c,d = da.rio.bounds()\n",
        "    bounds = ((d, c), (b, a))\n",
        "\n",
        "    map.add(ImageOverlay(url = imgurl, bounds = bounds))\n",
        "    map.add(\n",
        "        GeoJSON(data=roi_gdf.geometry[0].__geo_interface__, style={\"color\": \"red\", \"fillOpacity\": 0})\n",
        "    )\n",
        "    display(map)\n",
        "\n",
        "preview_miniature_on_map(nocloud_items[12])"
      ],
      "id": "46056e4e",
      "execution_count": null,
      "outputs": []
    },
    {
      "cell_type": "code",
      "metadata": {
        "vscode": {
          "languageId": "python"
        }
      },
      "source": [
        "da = stackstac.stack(items)"
      ],
      "id": "dff2f330",
      "execution_count": null,
      "outputs": []
    },
    {
      "cell_type": "code",
      "metadata": {
        "vscode": {
          "languageId": "python"
        }
      },
      "source": [
        "nocloud_da = da[da[\"eo:cloud_cover\"] < 3]\n",
        "nocloud_da"
      ],
      "id": "dd8212be",
      "execution_count": null,
      "outputs": []
    },
    {
      "cell_type": "code",
      "metadata": {
        "vscode": {
          "languageId": "python"
        }
      },
      "source": [
        "#view = nocloud_da.sel(band=\"nir\").isel(time=0).loc[::20, ::20]\n",
        "#view.plot.imshow()"
      ],
      "id": "a0d45a1f",
      "execution_count": null,
      "outputs": []
    },
    {
      "cell_type": "code",
      "metadata": {
        "vscode": {
          "languageId": "python"
        }
      },
      "source": [
        "view = (nocloud_da.sel(band=\"scl\").sel(time=nocloud_da.time.values[-1]).loc[::, ::] == 5) & (nocloud_da.sel(band=\"scl\").isel(time=0).loc[::, ::] == 4)\n",
        "y,x = np.ogrid[-3:7-3, -3:7-3]\n",
        "mask = x*x + y*y <= 3*3\n",
        "view.values = binary_dilation(view.values, footprint=mask)\n",
        "for i in range(2):\n",
        "    view.values = binary_erosion(view.values, footprint=mask)\n",
        "for i in range(3):\n",
        "    view.values = binary_dilation(view.values, footprint=mask)\n",
        "view.plot.imshow()\n",
        "\n",
        "view.rio.write_crs(view[\"proj:epsg\"].values).astype(np.uint8).rio.to_raster(\"../res/test.tif\")"
      ],
      "id": "cf67aaf3",
      "execution_count": null,
      "outputs": []
    },
    {
      "cell_type": "code",
      "metadata": {
        "vscode": {
          "languageId": "python"
        }
      },
      "source": [
        "rasterio"
      ],
      "id": "caa81832",
      "execution_count": null,
      "outputs": []
    },
    {
      "cell_type": "code",
      "metadata": {
        "vscode": {
          "languageId": "python"
        }
      },
      "source": [
        "(nocloud_da.sel(band=\"scl\").sel(time=nocloud_da.time.values[-1]).loc[::, ::] == 6).rio.write_crs(view[\"proj:epsg\"].values).astype(np.uint8).rio.to_raster(\"../res/water.tif\")"
      ],
      "id": "1275463d",
      "execution_count": null,
      "outputs": []
    },
    {
      "cell_type": "code",
      "metadata": {
        "vscode": {
          "languageId": "python"
        }
      },
      "source": [
        "nocloud_da.time.values[[0, -1]]"
      ],
      "id": "cb1ec1cd",
      "execution_count": null,
      "outputs": []
    }
  ],
  "metadata": {
    "kernelspec": {
      "name": "python3",
      "language": "python",
      "display_name": "Python 3 (ipykernel)"
    }
  },
  "nbformat": 4,
  "nbformat_minor": 5
}